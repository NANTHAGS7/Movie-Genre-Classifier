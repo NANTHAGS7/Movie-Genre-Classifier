{
  "cells": [
    {
      "cell_type": "code",
      "source": [
        "import re\n",
        "import csv\n",
        "\n",
        "import pandas as pd\n",
        "from sklearn.model_selection import train_test_split\n",
        "from sklearn.feature_extraction.text import TfidfVectorizer\n",
        "from sklearn.linear_model import LogisticRegression\n",
        "from sklearn.metrics import classification_report, accuracy_score\n",
        "from sklearn.preprocessing import LabelEncoder"
      ],
      "metadata": {
        "id": "V_wjR4adLEgq"
      },
      "execution_count": 32,
      "outputs": []
    },
    {
      "cell_type": "code",
      "source": [
        "# Input and output file paths\n",
        "input_file = 'dataset.txt'\n",
        "output_file = 'output.csv'\n",
        "\n",
        "# Function to parse each line of text and extract details\n",
        "def parse_line(line):\n",
        "    pattern = r'(\\d+) ::: (.+?) ::: (.+?) ::: (.+)'\n",
        "    match = re.match(pattern, line)\n",
        "    if match:\n",
        "        return match.groups()\n",
        "    return None\n",
        "\n",
        "# Read the text file and parse each line\n",
        "data = []\n",
        "with open(input_file, 'r') as file:\n",
        "    for line in file:\n",
        "        parsed = parse_line(line.strip())\n",
        "        if parsed:\n",
        "            data.append(parsed)\n",
        "\n",
        "# Write parsed data to CSV\n",
        "with open(output_file, 'w', newline='') as csvfile:\n",
        "    csvwriter = csv.writer(csvfile)\n",
        "    # Write header\n",
        "    csvwriter.writerow(['ID', 'Title', 'Genre', 'Description'])\n",
        "    # Write data rows\n",
        "    csvwriter.writerows(data)"
      ],
      "metadata": {
        "id": "nl5qJCLtLd8m"
      },
      "execution_count": 40,
      "outputs": []
    },
    {
      "cell_type": "code",
      "source": [
        "#import data\n",
        "data = pd.read_csv(\"output.csv\")\n",
        "\n",
        "# Preprocess the data\n",
        "data = data.dropna(subset=['Genre', 'Description'])\n",
        "label_encoder = LabelEncoder()\n",
        "data['Genre_encoded'] = label_encoder.fit_transform(data['Genre'])\n",
        "\n",
        "# Prepare the text descriptions and labels\n",
        "X = data['Description']\n",
        "y = data['Genre_encoded']\n",
        "\n",
        "# Split the data into training and testing sets\n",
        "X_train, X_test, y_train, y_test = train_test_split(X, y, test_size=0.2, random_state=42)\n",
        "\n",
        "# TF-IDF Vectorization\n",
        "tfidf_vectorizer = TfidfVectorizer(stop_words='english', max_features=1000)\n",
        "X_train_tfidf = tfidf_vectorizer.fit_transform(X_train)\n",
        "X_test_tfidf = tfidf_vectorizer.transform(X_test)\n",
        "\n",
        "# Model Training\n",
        "logistic_classifier = LogisticRegression(random_state=42, max_iter=1000)\n",
        "logistic_classifier.fit(X_train_tfidf, y_train)"
      ],
      "metadata": {
        "colab": {
          "base_uri": "https://localhost:8080/",
          "height": 74
        },
        "id": "Qk65r8CdLwRb",
        "outputId": "a23a58dc-7a4a-4b37-ab80-9814df54c330"
      },
      "execution_count": 44,
      "outputs": [
        {
          "output_type": "execute_result",
          "data": {
            "text/plain": [
              "LogisticRegression(max_iter=1000, random_state=42)"
            ],
            "text/html": [
              "<style>#sk-container-id-3 {color: black;background-color: white;}#sk-container-id-3 pre{padding: 0;}#sk-container-id-3 div.sk-toggleable {background-color: white;}#sk-container-id-3 label.sk-toggleable__label {cursor: pointer;display: block;width: 100%;margin-bottom: 0;padding: 0.3em;box-sizing: border-box;text-align: center;}#sk-container-id-3 label.sk-toggleable__label-arrow:before {content: \"▸\";float: left;margin-right: 0.25em;color: #696969;}#sk-container-id-3 label.sk-toggleable__label-arrow:hover:before {color: black;}#sk-container-id-3 div.sk-estimator:hover label.sk-toggleable__label-arrow:before {color: black;}#sk-container-id-3 div.sk-toggleable__content {max-height: 0;max-width: 0;overflow: hidden;text-align: left;background-color: #f0f8ff;}#sk-container-id-3 div.sk-toggleable__content pre {margin: 0.2em;color: black;border-radius: 0.25em;background-color: #f0f8ff;}#sk-container-id-3 input.sk-toggleable__control:checked~div.sk-toggleable__content {max-height: 200px;max-width: 100%;overflow: auto;}#sk-container-id-3 input.sk-toggleable__control:checked~label.sk-toggleable__label-arrow:before {content: \"▾\";}#sk-container-id-3 div.sk-estimator input.sk-toggleable__control:checked~label.sk-toggleable__label {background-color: #d4ebff;}#sk-container-id-3 div.sk-label input.sk-toggleable__control:checked~label.sk-toggleable__label {background-color: #d4ebff;}#sk-container-id-3 input.sk-hidden--visually {border: 0;clip: rect(1px 1px 1px 1px);clip: rect(1px, 1px, 1px, 1px);height: 1px;margin: -1px;overflow: hidden;padding: 0;position: absolute;width: 1px;}#sk-container-id-3 div.sk-estimator {font-family: monospace;background-color: #f0f8ff;border: 1px dotted black;border-radius: 0.25em;box-sizing: border-box;margin-bottom: 0.5em;}#sk-container-id-3 div.sk-estimator:hover {background-color: #d4ebff;}#sk-container-id-3 div.sk-parallel-item::after {content: \"\";width: 100%;border-bottom: 1px solid gray;flex-grow: 1;}#sk-container-id-3 div.sk-label:hover label.sk-toggleable__label {background-color: #d4ebff;}#sk-container-id-3 div.sk-serial::before {content: \"\";position: absolute;border-left: 1px solid gray;box-sizing: border-box;top: 0;bottom: 0;left: 50%;z-index: 0;}#sk-container-id-3 div.sk-serial {display: flex;flex-direction: column;align-items: center;background-color: white;padding-right: 0.2em;padding-left: 0.2em;position: relative;}#sk-container-id-3 div.sk-item {position: relative;z-index: 1;}#sk-container-id-3 div.sk-parallel {display: flex;align-items: stretch;justify-content: center;background-color: white;position: relative;}#sk-container-id-3 div.sk-item::before, #sk-container-id-3 div.sk-parallel-item::before {content: \"\";position: absolute;border-left: 1px solid gray;box-sizing: border-box;top: 0;bottom: 0;left: 50%;z-index: -1;}#sk-container-id-3 div.sk-parallel-item {display: flex;flex-direction: column;z-index: 1;position: relative;background-color: white;}#sk-container-id-3 div.sk-parallel-item:first-child::after {align-self: flex-end;width: 50%;}#sk-container-id-3 div.sk-parallel-item:last-child::after {align-self: flex-start;width: 50%;}#sk-container-id-3 div.sk-parallel-item:only-child::after {width: 0;}#sk-container-id-3 div.sk-dashed-wrapped {border: 1px dashed gray;margin: 0 0.4em 0.5em 0.4em;box-sizing: border-box;padding-bottom: 0.4em;background-color: white;}#sk-container-id-3 div.sk-label label {font-family: monospace;font-weight: bold;display: inline-block;line-height: 1.2em;}#sk-container-id-3 div.sk-label-container {text-align: center;}#sk-container-id-3 div.sk-container {/* jupyter's `normalize.less` sets `[hidden] { display: none; }` but bootstrap.min.css set `[hidden] { display: none !important; }` so we also need the `!important` here to be able to override the default hidden behavior on the sphinx rendered scikit-learn.org. See: https://github.com/scikit-learn/scikit-learn/issues/21755 */display: inline-block !important;position: relative;}#sk-container-id-3 div.sk-text-repr-fallback {display: none;}</style><div id=\"sk-container-id-3\" class=\"sk-top-container\"><div class=\"sk-text-repr-fallback\"><pre>LogisticRegression(max_iter=1000, random_state=42)</pre><b>In a Jupyter environment, please rerun this cell to show the HTML representation or trust the notebook. <br />On GitHub, the HTML representation is unable to render, please try loading this page with nbviewer.org.</b></div><div class=\"sk-container\" hidden><div class=\"sk-item\"><div class=\"sk-estimator sk-toggleable\"><input class=\"sk-toggleable__control sk-hidden--visually\" id=\"sk-estimator-id-3\" type=\"checkbox\" checked><label for=\"sk-estimator-id-3\" class=\"sk-toggleable__label sk-toggleable__label-arrow\">LogisticRegression</label><div class=\"sk-toggleable__content\"><pre>LogisticRegression(max_iter=1000, random_state=42)</pre></div></div></div></div></div>"
            ]
          },
          "metadata": {},
          "execution_count": 44
        }
      ]
    },
    {
      "cell_type": "code",
      "source": [
        "# Function to predict genre and its probability for a new description\n",
        "def predict_genre(description):\n",
        "    # Transform the new description into TF-IDF feature vectors using the trained TF-IDF vectorizer\n",
        "    description_tfidf = tfidf_vectorizer.transform([description])\n",
        "\n",
        "    # Predict the genre label for the new description\n",
        "    prediction = logistic_classifier.predict(description_tfidf)\n",
        "\n",
        "    # Predict the probabilities of each genre for the new description\n",
        "    probabilities = logistic_classifier.predict_proba(description_tfidf)\n",
        "\n",
        "    # Convert the predicted label back to its original genre category using the label encoder\n",
        "    predicted_genre = label_encoder.inverse_transform(prediction)[0]\n",
        "\n",
        "    # Get the probability of the predicted genre for the new description\n",
        "    # The predicted genre's probability is obtained from the predicted label\n",
        "    predicted_probability = probabilities[0][prediction][0]\n",
        "\n",
        "    # Return the predicted genre and its probability\n",
        "    return predicted_genre, predicted_probability\n",
        "\n",
        "new_description = input(\"Enter the description: \")\n",
        "predicted_genre, predicted_probability = predict_genre(new_description)\n",
        "print(f\"\\nPredicted Genre: {predicted_genre}\")\n",
        "print(f\"Probability: {predicted_probability:.2f}\")"
      ],
      "metadata": {
        "colab": {
          "base_uri": "https://localhost:8080/"
        },
        "id": "yuXj38DTL0JH",
        "outputId": "38a75b70-bed6-413d-ba4b-deb44b6f28e5"
      },
      "execution_count": 46,
      "outputs": [
        {
          "output_type": "stream",
          "name": "stdout",
          "text": [
            "Enter the description: Piero arrives in Paris from Luino after having won a pool tournament with friends. In the train he meets the famous place Ramazzini and has so many incidents that culminated with his arrest and the confiscation by the commissioner Juvet. Released, find randomly hospitality at the madame Lenormand and know the great painter Valentine. Both women are tied up, as a wife and lover, Maurice, in prison for robbery. A day Piero wears a mistake and the coat of astrakhan, Maurice, and then...\n",
            "\n",
            "Predicted Genre: drama\n",
            "Probability: 0.58\n"
          ]
        }
      ]
    }
  ],
  "metadata": {
    "colab": {
      "provenance": []
    },
    "kernelspec": {
      "display_name": "Python 3",
      "name": "python3"
    },
    "language_info": {
      "name": "python"
    }
  },
  "nbformat": 4,
  "nbformat_minor": 0
}